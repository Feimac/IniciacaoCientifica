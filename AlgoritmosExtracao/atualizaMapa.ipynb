{
 "cells": [
  {
   "cell_type": "code",
   "execution_count": 1,
   "id": "ee6ed4e7-5474-4660-a252-f405e9c1781d",
   "metadata": {},
   "outputs": [],
   "source": [
    "import pandas as pd\n",
    "import numpy as np\n",
    "from sklearn.cluster import DBSCAN\n",
    "import folium\n",
    "from folium.plugins import HeatMap\n",
    "import sqlite3\n",
    "\n",
    "# Carregar dados do banco\n",
    "def carregar_dados_atualizados(nome_banco, nome_tabela):\n",
    "    conn = sqlite3.connect(nome_banco)\n",
    "    try:\n",
    "        df = pd.read_sql_query(f\"SELECT * FROM {nome_tabela}\", conn)\n",
    "    finally:\n",
    "        conn.close()\n",
    "    return df\n",
    "\n",
    "# Função para filtrar e processar os atrasos\n",
    "def filtrar_e_processar_atrasos(dados):\n",
    "    df_atrasados = dados.loc[dados['SITUACAO'] == 'ATRASADO'].dropna(subset=['LAT_IN_TIME', 'LON_IN_TIME']).reset_index(drop=True)\n",
    "    return df_atrasados\n",
    "\n",
    "# Função para criar o mapa de calor\n",
    "def criar_mapa_de_calor(df_atrasados):\n",
    "    latitude_media = df_atrasados['LAT_IN_TIME'].mean()\n",
    "    longitude_media = df_atrasados['LON_IN_TIME'].mean()\n",
    "    mapa = folium.Map(location=[latitude_media, longitude_media], zoom_start=13)\n",
    "    heat_data = df_atrasados[['LAT_IN_TIME', 'LON_IN_TIME']].values.tolist()\n",
    "    HeatMap(heat_data).add_to(mapa)\n",
    "    return mapa\n",
    "\n",
    "# Função principal para atualizar o mapa e salvar no buffer\n",
    "def atualizar_mapa():\n",
    "    dados = carregar_dados_atualizados('dados_onibus.db', 'onibus_buffer')\n",
    "    df_atrasados = filtrar_e_processar_atrasos(dados)\n",
    "    mapa = criar_mapa_de_calor(df_atrasados)\n",
    "    mapa.save(\"mapa_buffer.html\")  # Salva o mapa em um arquivo HTML no buffer\n",
    "\n",
    "# Executa a atualização e salva o mapa\n",
    "if __name__ == \"__main__\":\n",
    "    atualizar_mapa()\n"
   ]
  },
  {
   "cell_type": "code",
   "execution_count": null,
   "id": "2d7edb5f-b207-4ab4-adba-18da1ac1efc8",
   "metadata": {},
   "outputs": [],
   "source": []
  }
 ],
 "metadata": {
  "kernelspec": {
   "display_name": "Python 3 (ipykernel)",
   "language": "python",
   "name": "python3"
  },
  "language_info": {
   "codemirror_mode": {
    "name": "ipython",
    "version": 3
   },
   "file_extension": ".py",
   "mimetype": "text/x-python",
   "name": "python",
   "nbconvert_exporter": "python",
   "pygments_lexer": "ipython3",
   "version": "3.10.12"
  }
 },
 "nbformat": 4,
 "nbformat_minor": 5
}
