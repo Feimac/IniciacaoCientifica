{
 "cells": [
  {
   "cell_type": "code",
   "execution_count": 4,
   "id": "5264c359-860c-4a63-94d5-e8181e57aa4a",
   "metadata": {},
   "outputs": [
    {
     "name": "stderr",
     "output_type": "stream",
     "text": [
      "2024-10-31 10:03:53.129 WARNING streamlit.runtime.scriptrunner_utils.script_run_context: Thread 'MainThread': missing ScriptRunContext! This warning can be ignored when running in bare mode.\n",
      "2024-10-31 10:03:53.131 WARNING streamlit.runtime.scriptrunner_utils.script_run_context: Thread 'MainThread': missing ScriptRunContext! This warning can be ignored when running in bare mode.\n",
      "2024-10-31 10:03:53.162 \n",
      "  \u001b[33m\u001b[1mWarning:\u001b[0m to view this Streamlit app on a browser, run it with the following\n",
      "  command:\n",
      "\n",
      "    streamlit run /home/felipe/.local/lib/python3.10/site-packages/ipykernel_launcher.py [ARGUMENTS]\n",
      "2024-10-31 10:03:53.163 Thread 'MainThread': missing ScriptRunContext! This warning can be ignored when running in bare mode.\n",
      "2024-10-31 10:03:53.164 Thread 'MainThread': missing ScriptRunContext! This warning can be ignored when running in bare mode.\n",
      "2024-10-31 10:03:53.165 Thread 'MainThread': missing ScriptRunContext! This warning can be ignored when running in bare mode.\n",
      "2024-10-31 10:03:53.225 Thread 'MainThread': missing ScriptRunContext! This warning can be ignored when running in bare mode.\n",
      "2024-10-31 10:03:53.225 Thread 'MainThread': missing ScriptRunContext! This warning can be ignored when running in bare mode.\n",
      "2024-10-31 10:03:53.226 Thread 'MainThread': missing ScriptRunContext! This warning can be ignored when running in bare mode.\n",
      "2024-10-31 10:03:53.226 Thread 'MainThread': missing ScriptRunContext! This warning can be ignored when running in bare mode.\n"
     ]
    },
    {
     "ename": "KeyboardInterrupt",
     "evalue": "",
     "output_type": "error",
     "traceback": [
      "\u001b[0;31m---------------------------------------------------------------------------\u001b[0m",
      "\u001b[0;31mKeyboardInterrupt\u001b[0m                         Traceback (most recent call last)",
      "Cell \u001b[0;32mIn[4], line 66\u001b[0m\n\u001b[1;32m     64\u001b[0m mapa \u001b[38;5;241m=\u001b[39m criar_mapa_de_atrasos(atrasos_por_cluster, df_atrasados)\n\u001b[1;32m     65\u001b[0m st_folium(mapa, width\u001b[38;5;241m=\u001b[39m\u001b[38;5;241m700\u001b[39m, height\u001b[38;5;241m=\u001b[39m\u001b[38;5;241m500\u001b[39m)\n\u001b[0;32m---> 66\u001b[0m \u001b[43mtime\u001b[49m\u001b[38;5;241;43m.\u001b[39;49m\u001b[43msleep\u001b[49m\u001b[43m(\u001b[49m\u001b[43mintervalo_atualizacao\u001b[49m\u001b[43m)\u001b[49m\n",
      "\u001b[0;31mKeyboardInterrupt\u001b[0m: "
     ]
    }
   ],
   "source": [
    "import streamlit as st\n",
    "import pandas as pd\n",
    "import numpy as np\n",
    "from sklearn.cluster import DBSCAN\n",
    "import folium\n",
    "from folium.plugins import HeatMap\n",
    "from streamlit_folium import st_folium\n",
    "import sqlite3\n",
    "import time\n",
    "\n",
    "# Carregar dados do banco (ou DataFrame 'dados')\n",
    "def carregar_dados_atualizados(nome_banco, nome_tabela):\n",
    "    conn = sqlite3.connect(nome_banco)\n",
    "    try:\n",
    "        df = pd.read_sql_query(f\"SELECT * FROM {nome_tabela}\", conn)\n",
    "    finally:\n",
    "        conn.close()\n",
    "    return df\n",
    "\n",
    "# Função para filtrar e processar os atrasos\n",
    "def filtrar_e_processar_atrasos(dados):\n",
    "    df_atrasados = dados.loc[dados['SITUACAO'] == 'ATRASADO'].dropna(subset=['LAT_IN_TIME', 'LON_IN_TIME']).reset_index(drop=True)\n",
    "    return df_atrasados\n",
    "\n",
    "# Função para aplicar DBSCAN e agrupar atrasos por clusters\n",
    "def aplicar_dbscan_e_gerar_clusters(df_atrasados):\n",
    "    coords = df_atrasados[['LAT_IN_TIME', 'LON_IN_TIME']].values\n",
    "    kms_per_radian = 6371.0088\n",
    "    epsilon = 0.5 / kms_per_radian\n",
    "    db = DBSCAN(eps=epsilon, min_samples=5, algorithm='ball_tree', metric='haversine').fit(np.radians(coords))\n",
    "    df_atrasados['cluster'] = db.labels_\n",
    "    df_clusters = df_atrasados[df_atrasados['cluster'] != -1]\n",
    "    atrasos_por_cluster = df_clusters.groupby('cluster').agg({\n",
    "        'LAT_IN_TIME': 'mean',\n",
    "        'LON_IN_TIME': 'mean',\n",
    "        'cluster': 'size'\n",
    "    }).rename(columns={'cluster': 'count'}).reset_index()\n",
    "    return atrasos_por_cluster, df_clusters\n",
    "\n",
    "# Função para criar o mapa com clusters de atrasos\n",
    "def criar_mapa_de_atrasos(atrasos_por_cluster, df_atrasados):\n",
    "    latitude_media = df_atrasados['LAT_IN_TIME'].mean()\n",
    "    longitude_media = df_atrasados['LON_IN_TIME'].mean()\n",
    "    mapa = folium.Map(location=[latitude_media, longitude_media], zoom_start=13)\n",
    "    heat_data = df_atrasados[['LAT_IN_TIME', 'LON_IN_TIME']].values.tolist()\n",
    "    HeatMap(heat_data).add_to(mapa)\n",
    "    for _, cluster in atrasos_por_cluster.iterrows():\n",
    "        folium.Marker(\n",
    "            location=[cluster['LAT_IN_TIME'], cluster['LON_IN_TIME']],\n",
    "            popup=f'Cluster {cluster[\"cluster\"]}: {cluster[\"count\"]} atrasos',\n",
    "            icon=folium.Icon(color='blue', icon='info-sign')\n",
    "        ).add_to(mapa)\n",
    "    return mapa\n",
    "\n",
    "# Configuração do dashboard com atualização em tempo real\n",
    "st.title(\"Dashboard de Atrasos em Tempo Real\")\n",
    "st.markdown(\"### Mapa de Clusters de Atrasos\")\n",
    "intervalo_atualizacao = 60  # Intervalo em segundos para atualização\n",
    "\n",
    "while True:\n",
    "    dados = carregar_dados_atualizados('dados_onibus.db', 'onibus_buffer')\n",
    "    df_atrasados = filtrar_e_processar_atrasos(dados)\n",
    "    atrasos_por_cluster, df_clusters = aplicar_dbscan_e_gerar_clusters(df_atrasados)\n",
    "    mapa = criar_mapa_de_atrasos(atrasos_por_cluster, df_atrasados)\n",
    "    st_folium(mapa, width=700, height=500)\n",
    "    time.sleep(intervalo_atualizacao)\n"
   ]
  }
 ],
 "metadata": {
  "kernelspec": {
   "display_name": "Python 3 (ipykernel)",
   "language": "python",
   "name": "python3"
  },
  "language_info": {
   "codemirror_mode": {
    "name": "ipython",
    "version": 3
   },
   "file_extension": ".py",
   "mimetype": "text/x-python",
   "name": "python",
   "nbconvert_exporter": "python",
   "pygments_lexer": "ipython3",
   "version": "3.10.12"
  }
 },
 "nbformat": 4,
 "nbformat_minor": 5
}
