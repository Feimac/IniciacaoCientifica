{
 "cells": [
  {
   "cell_type": "code",
   "execution_count": 1,
   "id": "c86cb216-966c-48ca-a789-7484cd2f1430",
   "metadata": {},
   "outputs": [
    {
     "name": "stdout",
     "output_type": "stream",
     "text": [
      "Processando: dados_pontos.db\n",
      "Exportado: dados_pontos_2024-10-24.csv\n",
      "Processando: dados_onibus.db\n",
      "Exportado: dados_onibus_2024-10-24.csv\n",
      "Processando: dados_processados.db\n",
      "Exportado: dados_processados_2024-10-24.csv\n",
      "Processando: dados_ocorrencia_onibus.db\n",
      "Exportado: dados_ocorrencia_onibus_2024-10-24.csv\n",
      "Processando: dados_itinerario.db\n",
      "Exportado: dados_itinerario_2024-10-24.csv\n",
      "Conversão concluída!\n"
     ]
    }
   ],
   "source": [
    "import sqlite3\n",
    "import pandas as pd\n",
    "import os\n",
    "from datetime import datetime\n",
    "\n",
    "\n",
    "# Obtém a data atual no formato desejado (AAAA-MM-DD)\n",
    "data_atual = datetime.now().strftime(\"%Y-%m-%d\")\n",
    "# Defina o caminho da pasta contendo os arquivos .db\n",
    "pasta = '/home/felipe/IniciacaoCientifica/AlgoritmosExtracao'  # Altere se necessário\n",
    "\n",
    "# Itera por todos os arquivos .db na pasta\n",
    "for arquivo in os.listdir(pasta):\n",
    "    if arquivo.endswith('.db'):\n",
    "        caminho_completo = os.path.join(pasta, arquivo)\n",
    "        print(f\"Processando: {arquivo}\")\n",
    "\n",
    "        # Conecta ao banco de dados\n",
    "        con = sqlite3.connect(caminho_completo)\n",
    "        cursor = con.cursor()\n",
    "\n",
    "        # Obtém todas as tabelas no banco de dados\n",
    "        cursor.execute(\"SELECT name FROM sqlite_master WHERE type='table';\")\n",
    "        tabelas = cursor.fetchall()\n",
    "\n",
    "        # Exporta cada tabela para CSV\n",
    "        for tabela in tabelas:\n",
    "            nome_tabela = tabela[0]\n",
    "            df = pd.read_sql_query(f\"SELECT * FROM {nome_tabela};\", con)\n",
    "            # Gera o nome do CSV no formato: nome_do_arquivo_nome_da_tabela.csv\n",
    "            nome_csv = f\"{arquivo.replace('.db', '')}_{data_atual}.csv\"\n",
    "            df.to_csv(nome_csv, index=False)\n",
    "            print(f\"Exportado: {nome_csv}\")\n",
    "\n",
    "        # Fecha a conexão com o banco\n",
    "        con.close()\n",
    "\n",
    "print(\"Conversão concluída!\")\n"
   ]
  },
  {
   "cell_type": "code",
   "execution_count": null,
   "id": "1687f465-2c25-4e04-8fc4-4cf403e33546",
   "metadata": {},
   "outputs": [],
   "source": []
  }
 ],
 "metadata": {
  "kernelspec": {
   "display_name": "Python 3 (ipykernel)",
   "language": "python",
   "name": "python3"
  },
  "language_info": {
   "codemirror_mode": {
    "name": "ipython",
    "version": 3
   },
   "file_extension": ".py",
   "mimetype": "text/x-python",
   "name": "python",
   "nbconvert_exporter": "python",
   "pygments_lexer": "ipython3",
   "version": "3.10.12"
  }
 },
 "nbformat": 4,
 "nbformat_minor": 5
}
