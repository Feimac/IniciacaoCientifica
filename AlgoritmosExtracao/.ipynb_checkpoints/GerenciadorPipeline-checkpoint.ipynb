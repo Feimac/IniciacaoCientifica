{
 "cells": [
  {
   "cell_type": "code",
   "execution_count": null,
   "id": "e0126ca4-ccb9-4538-8088-082850f2bec6",
   "metadata": {},
   "outputs": [
    {
     "name": "stdout",
     "output_type": "stream",
     "text": [
      "Executando extracaoOnibus.ipynb...\n",
      "Executando extracaoOcorrencia.ipynb...\n",
      "extracaoOcorrencia.ipynb executado com sucesso.\n",
      "extracaoOnibus.ipynb executado com sucesso.\n",
      "Executando extracaoOnibus.ipynb...\n",
      "extracaoOnibus.ipynb executado com sucesso.\n",
      "Executando extracaoOnibus.ipynb...\n",
      "extracaoOnibus.ipynb executado com sucesso.\n",
      "Executando extracaoOnibus.ipynb...\n",
      "extracaoOnibus.ipynb executado com sucesso.\n"
     ]
    }
   ],
   "source": [
    "import threading\n",
    "import time\n",
    "import os\n",
    "from nbclient import NotebookClient\n",
    "from nbformat import read\n",
    "\n",
    "def executar_script(script_path):\n",
    "    if os.path.isfile(script_path):\n",
    "        try:\n",
    "            print(f\"Executando {script_path}...\")\n",
    "\n",
    "            # Abrir o notebook\n",
    "            with open(script_path) as f:\n",
    "                nb = read(f, as_version=4)\n",
    "\n",
    "            # Executar o notebook\n",
    "            client = NotebookClient(nb)\n",
    "            client.execute()\n",
    "\n",
    "            print(f\"{script_path} executado com sucesso.\")\n",
    "        except Exception as e:\n",
    "            print(f\"Erro ao executar {script_path}: {e}\")\n",
    "    else:\n",
    "        print(f\"O arquivo {script_path} não foi encontrado.\")\n",
    "\n",
    "# Caminhos para os arquivos\n",
    "path_extracao_onibus = 'extracaoOnibus.ipynb'\n",
    "path_extracao_ocorrencia = 'extracaoOcorrencia.ipynb'\n",
    "\n",
    "# Funções para executar scripts de extração em loops\n",
    "def tarefa_extracao_onibus():\n",
    "    while True:\n",
    "        executar_script(path_extracao_onibus)\n",
    "        time.sleep(30)  # Espera 30 segundos\n",
    "\n",
    "\n",
    "\n",
    "def tarefa_extracao_ocorrencia():\n",
    "    while True:\n",
    "        executar_script(path_extracao_ocorrencia)\n",
    "        time.sleep(900)  # Espera 15 minutos \n",
    "\n",
    "# Iniciando as threads\n",
    "thread_onibus = threading.Thread(target=tarefa_extracao_onibus)\n",
    "thread_ocorrencia = threading.Thread(target=tarefa_extracao_ocorrencia)\n",
    "\n",
    "thread_onibus.start()\n",
    "thread_ocorrencia.start()\n",
    "\n",
    "# Aguarda a thread do ônibus terminar (que não deve, já que é uma execução contínua)\n",
    "thread_onibus.join()\n",
    "\n",
    "print(\"Todas as tarefas foram iniciadas.\")\n"
   ]
  },
  {
   "cell_type": "code",
   "execution_count": null,
   "id": "71f47002-3b25-4daf-886c-7128346390d7",
   "metadata": {},
   "outputs": [],
   "source": []
  }
 ],
 "metadata": {
  "kernelspec": {
   "display_name": "Python 3 (ipykernel)",
   "language": "python",
   "name": "python3"
  },
  "language_info": {
   "codemirror_mode": {
    "name": "ipython",
    "version": 3
   },
   "file_extension": ".py",
   "mimetype": "text/x-python",
   "name": "python",
   "nbconvert_exporter": "python",
   "pygments_lexer": "ipython3",
   "version": "3.10.12"
  }
 },
 "nbformat": 4,
 "nbformat_minor": 5
}
