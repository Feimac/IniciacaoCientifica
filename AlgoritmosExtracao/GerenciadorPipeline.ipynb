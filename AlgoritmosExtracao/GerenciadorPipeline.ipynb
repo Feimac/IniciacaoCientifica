{
 "cells": [
  {
   "cell_type": "code",
   "execution_count": null,
   "id": "e0126ca4-ccb9-4538-8088-082850f2bec6",
   "metadata": {},
   "outputs": [
    {
     "name": "stdout",
     "output_type": "stream",
     "text": [
      "Executando extracaoTodosOnibus.ipynb...\n",
      "Executando transDados.ipynb...\n",
      "transDados.ipynb executado com sucesso.\n",
      "extracaoTodosOnibus.ipynb executado com sucesso.\n",
      "Executando atualizaMapa.ipynb...\n",
      "atualizaMapa.ipynb executado com sucesso.\n"
     ]
    }
   ],
   "source": [
    "import threading\n",
    "import time\n",
    "import os\n",
    "from nbclient import NotebookClient\n",
    "from nbformat import read\n",
    "\n",
    "def executar_script(script_path):\n",
    "    if os.path.isfile(script_path):\n",
    "        try:\n",
    "            print(f\"Executando {script_path}...\")\n",
    "\n",
    "            # Abrir o notebook\n",
    "            with open(script_path) as f:\n",
    "                nb = read(f, as_version=4)\n",
    "\n",
    "            # Executar o notebook\n",
    "            client = NotebookClient(nb)\n",
    "            client.execute()\n",
    "\n",
    "            print(f\"{script_path} executado com sucesso.\")\n",
    "        except Exception as e:\n",
    "            print(f\"Erro ao executar {script_path}: {e}\")\n",
    "    else:\n",
    "        print(f\"O arquivo {script_path} não foi encontrado.\")\n",
    "\n",
    "# Caminhos para os arquivos\n",
    "path_extracao_onibus = 'extracaoTodosOnibus.ipynb'\n",
    "path_extracao_ocorrencia = 'extracaoOcorrencia.ipynb'\n",
    "path_atualiza_mapa = 'atualizaMapa.ipynb'\n",
    "path_transformacao = 'transDados.ipynb'\n",
    "# Funções para executar scripts de extração em loops\n",
    "def tarefa_extracao_onibus():\n",
    "    while True:\n",
    "        executar_script(path_extracao_onibus)\n",
    "        executar_script(path_atualiza_mapa)\n",
    "        time.sleep(60)  # Espera 30 segundos\n",
    "\n",
    "\n",
    "def tarefa_extracao_ocorrencia():\n",
    "    while True:\n",
    "        executar_script(path_extracao_ocorrencia)\n",
    "        time.sleep(900)  # Espera 15 minutos \n",
    "        \n",
    "def tarefa_extracao_ocorrencia():\n",
    "    while True:\n",
    "        executar_script(path_transformacao)\n",
    "        time.sleep(60)  # Espera 15 minutos \n",
    "        \n",
    "\n",
    "'''\n",
    "def conversorCSV.ipynb():\n",
    "    while True:\n",
    "        executar_script(path_extracao_ocorrencia)\n",
    "        time.sleep(900)  # Espera 15 minutos \n",
    "'''\n",
    "# Iniciando as threads\n",
    "thread_onibus = threading.Thread(target=tarefa_extracao_onibus)\n",
    "thread_ocorrencia = threading.Thread(target=tarefa_extracao_ocorrencia)\n",
    "\n",
    "thread_onibus.start()\n",
    "thread_ocorrencia.start()\n",
    "\n",
    "# Aguarda a thread do ônibus terminar (que não deve, já que é uma execução contínua)\n",
    "thread_onibus.join()\n",
    "\n",
    "print(\"Todas as tarefas foram iniciadas.\")\n"
   ]
  },
  {
   "cell_type": "code",
   "execution_count": 1,
   "id": "84b3a764-1d6b-462c-a026-c7150cf1a35d",
   "metadata": {},
   "outputs": [
    {
     "ename": "NameError",
     "evalue": "name 'carregar_tabela_para_dataframe' is not defined",
     "output_type": "error",
     "traceback": [
      "\u001b[0;31m---------------------------------------------------------------------------\u001b[0m",
      "\u001b[0;31mNameError\u001b[0m                                 Traceback (most recent call last)",
      "Cell \u001b[0;32mIn[1], line 1\u001b[0m\n\u001b[0;32m----> 1\u001b[0m df \u001b[38;5;241m=\u001b[39m \u001b[43mcarregar_tabela_para_dataframe\u001b[49m(\u001b[38;5;124m'\u001b[39m\u001b[38;5;124monibus\u001b[39m\u001b[38;5;124m'\u001b[39m, \u001b[38;5;124m'\u001b[39m\u001b[38;5;124mdados_ocoreencia.db\u001b[39m\u001b[38;5;124m'\u001b[39m)\n\u001b[1;32m      2\u001b[0m df\n",
      "\u001b[0;31mNameError\u001b[0m: name 'carregar_tabela_para_dataframe' is not defined"
     ]
    }
   ],
   "source": [
    "df = carregar_tabela_para_dataframe('onibus', 'dados_processados.db')\n",
    "#df[df['CODIGOLINHA'] == '500']\n",
    "a = df[df['COD'] == 'GE704']\n",
    "a.head(30)"
   ]
  },
  {
   "cell_type": "code",
   "execution_count": null,
   "id": "71f47002-3b25-4daf-886c-7128346390d7",
   "metadata": {},
   "outputs": [],
   "source": []
  }
 ],
 "metadata": {
  "kernelspec": {
   "display_name": "Python 3 (ipykernel)",
   "language": "python",
   "name": "python3"
  },
  "language_info": {
   "codemirror_mode": {
    "name": "ipython",
    "version": 3
   },
   "file_extension": ".py",
   "mimetype": "text/x-python",
   "name": "python",
   "nbconvert_exporter": "python",
   "pygments_lexer": "ipython3",
   "version": "3.10.12"
  }
 },
 "nbformat": 4,
 "nbformat_minor": 5
}
