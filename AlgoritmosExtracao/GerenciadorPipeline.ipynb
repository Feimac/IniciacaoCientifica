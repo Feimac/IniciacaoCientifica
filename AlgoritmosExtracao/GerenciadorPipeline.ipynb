{
 "cells": [
  {
   "cell_type": "code",
   "execution_count": 11,
   "id": "e0126ca4-ccb9-4538-8088-082850f2bec6",
   "metadata": {},
   "outputs": [
    {
     "name": "stderr",
     "output_type": "stream",
     "text": [
      "[NbConvertApp] Converting notebook extracaoOnibus.ipynb to notebook\n",
      "0.00s - Debugger warning: It seems that frozen modules are being used, which may\n",
      "0.00s - make the debugger miss breakpoints. Please pass -Xfrozen_modules=off\n",
      "0.00s - to python to disable frozen modules.\n",
      "0.00s - Note: Debugging will proceed. Set PYDEVD_DISABLE_FILE_VALIDATION=1 to disable this validation.\n",
      "0.00s - Debugger warning: It seems that frozen modules are being used, which may\n",
      "0.00s - make the debugger miss breakpoints. Please pass -Xfrozen_modules=off\n",
      "0.00s - to python to disable frozen modules.\n",
      "0.00s - Note: Debugging will proceed. Set PYDEVD_DISABLE_FILE_VALIDATION=1 to disable this validation.\n"
     ]
    },
    {
     "name": "stdout",
     "output_type": "stream",
     "text": [
      "O notebook foi executado.\n"
     ]
    },
    {
     "name": "stderr",
     "output_type": "stream",
     "text": [
      "[NbConvertApp] Writing 58832 bytes to output_notebook.ipynb\n"
     ]
    }
   ],
   "source": [
    "import threading\n",
    "import subprocess\n",
    "import time\n",
    "import os\n",
    "\n",
    "def executar_script(script_path):\n",
    "    if os.path.isfile(script_path):\n",
    "        try:\n",
    "            print(f\"Executando {script_path}...\")\n",
    "            subprocess.run(['jupyter', 'nbconvert', '--to', 'notebook', '--execute', script_path], check=True)\n",
    "            print(f\"{script_path} executado com sucesso.\")\n",
    "        except subprocess.CalledProcessError as e:\n",
    "            print(f\"Erro ao executar {script_path}: {e}\")\n",
    "    else:\n",
    "        print(f\"O arquivo {script_path} não foi encontrado.\")\n",
    "\n",
    "# Caminhos para os arquivos\n",
    "path_extracao_onibus = 'extracaoOnibus.ipynb'\n",
    "path_extracao_pontos = 'extracaoPontos.ipynb'\n",
    "path_extracao_ocorrencia = 'extracaoOcorrencia.ipynb'\n",
    "\n",
    "# Flag para controlar a execução do script de extração de ônibus\n",
    "executou_onibus = False\n",
    "\n",
    "def tarefa_extracao_onibus():\n",
    "    global executou_onibus\n",
    "    if not executou_onibus:\n",
    "        executar_script(path_extracao_onibus)\n",
    "        executou_onibus = True\n",
    "\n",
    "def tarefa_extracao_pontos():\n",
    "    while True:\n",
    "        executar_script(path_extracao_pontos)\n",
    "        time.sleep(86400)  # Espera 1 dia (86400 segundos)\n",
    "\n",
    "def tarefa_extracao_ocorrencia():\n",
    "    while True:\n",
    "        executar_script(path_extracao_ocorrencia)\n",
    "        time.sleep(900)  # Espera 15 minutos \n",
    "\n",
    "# Iniciando as threads\n",
    "thread_onibus = threading.Thread(target=tarefa_extracao_onibus)\n",
    "thread_pontos = threading.Thread(target=tarefa_extracao_pontos)\n",
    "thread_ocorrencia = threading.Thread(target=tarefa_extracao_ocorrencia)\n",
    "\n",
    "thread_onibus.start()\n",
    "thread_pontos.start()\n",
    "thread_ocorrencia.start()\n",
    "\n",
    "# Aguarda a thread do ônibus terminar (que não deve, já que é uma execução única)\n",
    "thread_onibus.join()\n",
    "\n",
    "print(\"Todas as tarefas foram iniciadas.\")\n"
   ]
  },
  {
   "cell_type": "code",
   "execution_count": null,
   "id": "71f47002-3b25-4daf-886c-7128346390d7",
   "metadata": {},
   "outputs": [],
   "source": []
  }
 ],
 "metadata": {
  "kernelspec": {
   "display_name": "Python 3 (ipykernel)",
   "language": "python",
   "name": "python3"
  },
  "language_info": {
   "codemirror_mode": {
    "name": "ipython",
    "version": 3
   },
   "file_extension": ".py",
   "mimetype": "text/x-python",
   "name": "python",
   "nbconvert_exporter": "python",
   "pygments_lexer": "ipython3",
   "version": "3.10.12"
  }
 },
 "nbformat": 4,
 "nbformat_minor": 5
}
